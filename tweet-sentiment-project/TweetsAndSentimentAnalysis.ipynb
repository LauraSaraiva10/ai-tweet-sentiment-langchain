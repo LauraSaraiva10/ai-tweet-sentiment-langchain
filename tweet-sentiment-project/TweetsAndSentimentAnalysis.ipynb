{
 "cells": [
  {
   "cell_type": "markdown",
   "id": "a48bbfee",
   "metadata": {},
   "source": [
    "### Install Dependencies"
   ]
  },
  {
   "cell_type": "code",
   "execution_count": 1,
   "id": "4003959a-90c8-4c65-957c-62ef6ec3e2b8",
   "metadata": {},
   "outputs": [],
   "source": [
    "from openai import OpenAI\n",
    "import os"
   ]
  },
  {
   "cell_type": "markdown",
   "id": "8693e0c1",
   "metadata": {},
   "source": [
    "### Set Up OpenAI API Key"
   ]
  },
  {
   "cell_type": "code",
   "execution_count": null,
   "id": "f39adf4f-d344-4912-9294-74f77ae8ab29",
   "metadata": {},
   "outputs": [],
   "source": [
    "os.environ['OPENAI_API_KEY'] = ''"
   ]
  },
  {
   "cell_type": "code",
   "execution_count": 3,
   "id": "e48c2f9d-d8d6-4d1b-8795-80a50ccdb474",
   "metadata": {},
   "outputs": [],
   "source": [
    "client = OpenAI(\n",
    "  api_key=os.getenv('OPENAI_API_KEY')\n",
    ")"
   ]
  },
  {
   "cell_type": "markdown",
   "id": "38d6dab4",
   "metadata": {},
   "source": [
    "### Tweet Generation"
   ]
  },
  {
   "cell_type": "code",
   "execution_count": 4,
   "id": "900f79fa-5dc2-4d04-ad36-56e68f5feff7",
   "metadata": {},
   "outputs": [
    {
     "name": "stdout",
     "output_type": "stream",
     "text": [
      "Welcome to the Tweet Creator!\n",
      "\n",
      "\"Generative AI is revolutionizing creativity by autonomously producing original content like art, music, and even writing. The possibilities are endless when algorithms become the artist! 🎨🤖 #GenerativeAI #ArtificialIntelligence\"\n"
     ]
    }
   ],
   "source": [
    "def create_tweet(topic, length=300):\n",
    "    prompt = f'''\n",
    "\n",
    "    Write a tweet about {topic}.\n",
    "\n",
    "    '''\n",
    "\n",
    "    response = client.chat.completions.create(\n",
    "        model = \"gpt-3.5-turbo\",\n",
    "        messages = [\n",
    "        {\"role\": \"system\", \"content\": \"You are an expert at writing tweets\"},\n",
    "        {\"role\": \"user\", \"content\": prompt}\n",
    "        ],\n",
    "        max_tokens=length\n",
    "    )\n",
    "\n",
    "    return response.choices[0].message.content\n",
    "\n",
    "print(\"Welcome to the Tweet Creator!\\n\")\n",
    "\n",
    "topic = input(\"Enter a topic for the Tweet: \")\n",
    "length = int(input(\"Enter the maximum length: \"))\n",
    "\n",
    "tweet = create_tweet(topic, length)\n",
    "\n",
    "print(tweet)"
   ]
  },
  {
   "cell_type": "code",
   "execution_count": 5,
   "id": "4c45a7fb-3ac0-4fe4-9b92-1d4c5031bb62",
   "metadata": {},
   "outputs": [
    {
     "name": "stdout",
     "output_type": "stream",
     "text": [
      "Welcome to the Tweet Creator!\n",
      "\n",
      "\"Generative AI is pushing boundaries in creativity and innovation, showcasing the power of machines to create meaningful and impactful content. #AI #Innovation\"\n"
     ]
    }
   ],
   "source": [
    "def create_tweet(topic, length=250):\n",
    "    prompt = f'''\n",
    "\n",
    "    Write a tweet about {topic}. Limit this to a maximum of {length} characters.\n",
    "\n",
    "    '''\n",
    "\n",
    "    response = client.chat.completions.create(\n",
    "        model = \"gpt-3.5-turbo\",\n",
    "        messages = [\n",
    "        {\"role\": \"system\", \"content\": \"You are an expert at writing tweets\"},\n",
    "        {\"role\": \"user\", \"content\": prompt}\n",
    "        ],\n",
    "        max_tokens=length\n",
    "    )\n",
    "\n",
    "    return response.choices[0].message.content\n",
    "\n",
    "print(\"Welcome to the Tweet Creator!\\n\")\n",
    "\n",
    "topic = input(\"Enter a topic for the Tweet: \")\n",
    "length = int(input(\"Enter the maximum length: \"))\n",
    "\n",
    "tweet = create_tweet(topic, length)\n",
    "\n",
    "print(tweet)"
   ]
  },
  {
   "cell_type": "code",
   "execution_count": 6,
   "id": "a1e1f474-cdef-4d9a-b2b6-5f0b217b2fc5",
   "metadata": {},
   "outputs": [
    {
     "name": "stdout",
     "output_type": "stream",
     "text": [
      "Welcome to the Tweet Creator!\n",
      "\n",
      "\"Exciting advancements in generative AI pushing boundaries and sparking new possibilities! 👩‍💻🌟 #AI #innovation\"墎\n"
     ]
    }
   ],
   "source": [
    "def create_tweet(topic, length=250):\n",
    "    prompt = f'''\n",
    "\n",
    "    Write a tweet about {topic}. Limit this to a maximum of {length} characters.\n",
    "\n",
    "    '''\n",
    "\n",
    "    response = client.chat.completions.create(\n",
    "        model = \"gpt-3.5-turbo\",\n",
    "        messages = [\n",
    "        {\"role\": \"system\", \"content\": \"You are an expert at writing tweets\"},\n",
    "        {\"role\": \"user\", \"content\": prompt}\n",
    "        ],\n",
    "        max_tokens=length,\n",
    "        temperature=2 # default is 1. 2 = increases the randomness or creativity\n",
    "    )\n",
    "\n",
    "    return response.choices[0].message.content\n",
    "\n",
    "print(\"Welcome to the Tweet Creator!\\n\")\n",
    "\n",
    "topic = input(\"Enter a topic for the Tweet: \")\n",
    "length = int(input(\"Enter the maximum length: \"))\n",
    "\n",
    "tweet = create_tweet(topic, length)\n",
    "\n",
    "print(tweet)"
   ]
  },
  {
   "cell_type": "code",
   "execution_count": 7,
   "id": "a35814dc-b26f-439d-9b0a-ee3ab734f06d",
   "metadata": {},
   "outputs": [
    {
     "name": "stdout",
     "output_type": "stream",
     "text": [
      "Welcome to the Tweet Creator!\n",
      "\n",
      "1. \"Wow, the latest generative AI breakthroughs are truly awe-inspiring, fueling a wave of innovation and limitless possibilities! 🚀🌟 #AI #innovation\"\n",
      "2. \"Feeling skeptical about the impact of generative AI advancements on society? Dive deeper into the ethical debates surrounding this evolving technology. #AI #ethics\"\n",
      "3. \"Neutral stance on generative AI progress? Stay informed on the latest developments reshaping industries and transforming creative processes worldwide. 🤖💡 #AI\"\n",
      "4. \"The future is here with generative AI leading the way! Witness the boundless creativity and endless opportunities emerging from this cutting-edge technology. 🌈💻 #innovation\"\n",
      "5. \"Are you ready to be amazed by the incredible feats achieved through generative AI? Explore how these advancements are revolutionizing the way we interact with and create using AI. #AI #exciting\"\n"
     ]
    }
   ],
   "source": [
    "def create_tweet(topic, length=250):\n",
    "    prompt = f'''\n",
    "\n",
    "    Write five tweets about {topic}. Limit this to a maximum of {length} characters.\n",
    "    Also, there should be at least one tweet for sentiment of positive, negative and neutral.\n",
    "\n",
    "    '''\n",
    "\n",
    "    response = client.chat.completions.create(\n",
    "        model = \"gpt-3.5-turbo\",\n",
    "        messages = [\n",
    "        {\"role\": \"system\", \"content\": \"You are an expert at writing tweets\"},\n",
    "        {\"role\": \"user\", \"content\": prompt}\n",
    "        ],\n",
    "        max_tokens=length\n",
    "    )\n",
    "\n",
    "    return response.choices[0].message.content\n",
    "\n",
    "print(\"Welcome to the Tweet Creator!\\n\")\n",
    "\n",
    "topic = input(\"Enter a topic for the Tweet: \")\n",
    "length = int(input(\"Enter the maximum length: \"))\n",
    "\n",
    "tweet = create_tweet(topic, length)\n",
    "\n",
    "print(tweet)"
   ]
  },
  {
   "cell_type": "markdown",
   "id": "019bf3f4",
   "metadata": {},
   "source": [
    "### Sentiment Analysis"
   ]
  },
  {
   "cell_type": "markdown",
   "id": "c5c3ea2b",
   "metadata": {},
   "source": [
    "Tweet: Wow, the latest generative AI breakthroughs are truly awe-inspiring, fueling a wave of innovation and limitless possibilities! 🚀🌟 #AI #innovation"
   ]
  },
  {
   "cell_type": "code",
   "execution_count": 14,
   "id": "c6380c82-b76d-4dbb-a3f0-c9831c297980",
   "metadata": {},
   "outputs": [
    {
     "name": "stdout",
     "output_type": "stream",
     "text": [
      "Welcome to the Sentiment Analysis App!\n",
      "\n",
      "Positive\n"
     ]
    }
   ],
   "source": [
    "def get_sentiment(tweet):\n",
    "    prompt = f'''\n",
    "\n",
    "    Express the sentiment with either positive, negative or neutral. Analyze the sentiment of the tweet delimited by ###.\n",
    "    ###\n",
    "    {tweet}\n",
    "    ###\n",
    "    '''\n",
    "\n",
    "    response = client.chat.completions.create(\n",
    "        model = \"gpt-3.5-turbo\",\n",
    "        messages = [\n",
    "        {\"role\": \"system\", \"content\": \"You are an expert at determining sentiment of text\"},\n",
    "        {\"role\": \"user\", \"content\": prompt}\n",
    "        ],\n",
    "        max_tokens=length\n",
    "    )\n",
    "\n",
    "    return response.choices[0].message.content\n",
    "\n",
    "print(\"Welcome to the Sentiment Analysis App!\\n\")\n",
    "\n",
    "tweet = input(\"Enter a tweet: \")\n",
    "\n",
    "sentiment = get_sentiment(tweet)\n",
    "\n",
    "print(sentiment)\n"
   ]
  },
  {
   "cell_type": "markdown",
   "id": "339bce70",
   "metadata": {},
   "source": [
    "Tweet: The future is here with generative AI leading the way! Witness the boundless creativity and endless opportunities emerging from this cutting-edge technology. 🌈💻 #innovation"
   ]
  },
  {
   "cell_type": "code",
   "execution_count": 15,
   "id": "b83066b9-cd47-4721-a8ef-429ebedb583b",
   "metadata": {},
   "outputs": [
    {
     "name": "stdout",
     "output_type": "stream",
     "text": [
      "Welcome to the Sentiment Analysis App!\n",
      "\n",
      "Positive 😊\n"
     ]
    }
   ],
   "source": [
    "def get_sentiment(tweet):\n",
    "    prompt = f'''\n",
    "\n",
    "    Express the sentiment with either positive, negative or neutral. Also include an emoji.\n",
    "    Analyze the sentiment of the tweet\n",
    "    delimited by ###.\n",
    "    ###\n",
    "    {tweet}\n",
    "    ###\n",
    "    '''\n",
    "\n",
    "    response = client.chat.completions.create(\n",
    "        model = \"gpt-3.5-turbo\",\n",
    "        messages = [\n",
    "        {\"role\": \"system\", \"content\": \"You are an expert at determining sentiment of text\"},\n",
    "        {\"role\": \"user\", \"content\": prompt}\n",
    "        ],\n",
    "        max_tokens=length\n",
    "    )\n",
    "\n",
    "    return response.choices[0].message.content\n",
    "\n",
    "print(\"Welcome to the Sentiment Analysis App!\\n\")\n",
    "\n",
    "tweet = input(\"Enter a tweet: \")\n",
    "\n",
    "sentiment = get_sentiment(tweet)\n",
    "\n",
    "print(sentiment)\n"
   ]
  }
 ],
 "metadata": {
  "kernelspec": {
   "display_name": "Python 3",
   "language": "python",
   "name": "python3"
  },
  "language_info": {
   "codemirror_mode": {
    "name": "ipython",
    "version": 3
   },
   "file_extension": ".py",
   "mimetype": "text/x-python",
   "name": "python",
   "nbconvert_exporter": "python",
   "pygments_lexer": "ipython3",
   "version": "3.12.4"
  }
 },
 "nbformat": 4,
 "nbformat_minor": 5
}
